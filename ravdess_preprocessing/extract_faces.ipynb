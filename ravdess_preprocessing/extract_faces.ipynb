{
 "cells": [
  {
   "cell_type": "code",
   "execution_count": 1,
   "id": "13c744a7-8a4e-496a-9d11-b33e2b55325f",
   "metadata": {
    "collapsed": true,
    "jupyter": {
     "outputs_hidden": true
    },
    "tags": []
   },
   "outputs": [
    {
     "name": "stderr",
     "output_type": "stream",
     "text": [
      "/home/majidh/anaconda3/envs/mml/lib/python3.8/site-packages/tqdm/auto.py:22: TqdmWarning: IProgress not found. Please update jupyter and ipywidgets. See https://ipywidgets.readthedocs.io/en/stable/user_install.html\n",
      "  from .autonotebook import tqdm as notebook_tqdm\n"
     ]
    }
   ],
   "source": [
    "#import the libraries\n",
    "import os\n",
    "import numpy as np          \n",
    "import cv2\n",
    "from tqdm import tqdm\n",
    "import torch\n",
    "from facenet_pytorch import MTCNN"
   ]
  },
  {
   "cell_type": "code",
   "execution_count": 3,
   "id": "7ea1bc47-ab17-439e-9031-4bba482e8354",
   "metadata": {},
   "outputs": [],
   "source": [
    "#select processing unit\n",
    "device = torch.device('cuda') if torch.cuda.is_available() else 'cpu'\n",
    "\n",
    "#facerecognition algorithm\n",
    "mtcnn = MTCNN(image_size=(720, 1280), device=device)\n",
    "\n",
    "#video data attributes \n",
    "save_frames = 16200\n",
    "input_fps = 30\n",
    "\n",
    "save_length = 540 #seconds\n",
    "save_avi = True # decide to save avi file\n",
    "\n",
    "failed_videos = []\n",
    "\n",
    "#dataset folder\n",
    "root = '/nfsmount/majid/multimodal/Emotion_recognition_T/dataset'\n"
   ]
  },
  {
   "cell_type": "code",
   "execution_count": 5,
   "id": "c4299537-d480-4c17-a185-32773571f318",
   "metadata": {},
   "outputs": [
    {
     "ename": "TypeError",
     "evalue": "'function' object is not subscriptable",
     "output_type": "error",
     "traceback": [
      "\u001b[0;31m---------------------------------------------------------------------------\u001b[0m",
      "\u001b[0;31mTypeError\u001b[0m                                 Traceback (most recent call last)",
      "Input \u001b[0;32mIn [5]\u001b[0m, in \u001b[0;36m<cell line: 2>\u001b[0;34m()\u001b[0m\n\u001b[1;32m      1\u001b[0m select_distributed \u001b[38;5;241m=\u001b[39m \u001b[38;5;28;01mlambda\u001b[39;00m m, n: [i\u001b[38;5;241m*\u001b[39mn\u001b[38;5;241m/\u001b[39m\u001b[38;5;241m/\u001b[39mm \u001b[38;5;241m+\u001b[39m n\u001b[38;5;241m/\u001b[39m\u001b[38;5;241m/\u001b[39m(\u001b[38;5;241m2\u001b[39m\u001b[38;5;241m*\u001b[39mm) \u001b[38;5;28;01mfor\u001b[39;00m i \u001b[38;5;129;01min\u001b[39;00m \u001b[38;5;28mrange\u001b[39m(m)]\n\u001b[0;32m----> 2\u001b[0m \u001b[43mselect_distributed\u001b[49m\u001b[43m[\u001b[49m\u001b[38;5;241;43m0\u001b[39;49m\u001b[43m]\u001b[49m\n",
      "\u001b[0;31mTypeError\u001b[0m: 'function' object is not subscriptable"
     ]
    }
   ],
   "source": [
    "#################################################################\n",
    "select_distributed = lambda m, n: [i*n//m + n//(2*m) for i in range(m)]\n",
    "n_processed = 0\n",
    "for sess in tqdm(sorted(os.listdir(root))):   \n",
    "    for filename in os.listdir(os.path.join(root, sess)):\n",
    "           \n",
    "        if filename.endswith('.mp4'):\n",
    "            print(filename)            \n",
    "            cap = cv2.VideoCapture(os.path.join(root, sess, filename))  \n",
    "            #calculate length in frames\n",
    "            framen = 0\n",
    "            while True:\n",
    "                \n",
    "                i,q = cap.read()\n",
    "                if not i:\n",
    "                    break\n",
    "                framen += 1\n",
    "            cap = cv2.VideoCapture(os.path.join(root, sess, filename))\n",
    "\n",
    "            if save_length*input_fps > framen:                    \n",
    "                skip_begin = int((framen - (save_length*input_fps)) // 2)\n",
    "                for i in range(skip_begin):\n",
    "                    _, im = cap.read() \n",
    "                    \n",
    "            framen = int(save_length*input_fps)    \n",
    "            frames_to_select = select_distributed(save_frames,framen)\n",
    "            save_fps = save_frames // (framen // input_fps) \n",
    "            if save_avi:\n",
    "                out = cv2.VideoWriter(os.path.join(root, sess, filename[:-4]+'_facecroppad.avi'),cv2.VideoWriter_fourcc('M','J','P','G'), save_fps, (224,224))\n",
    "            numpy_video = []\n",
    "            success = 0\n",
    "            frame_ctr = 0\n",
    "            \n",
    "            while True: \n",
    "                ret, im = cap.read()\n",
    "                if not ret:\n",
    "                    break\n",
    "                if frame_ctr not in frames_to_select:\n",
    "                    frame_ctr += 1\n",
    "                    continue\n",
    "                else:\n",
    "                    frames_to_select.remove(frame_ctr)\n",
    "                    frame_ctr += 1\n",
    "\n",
    "                try:\n",
    "                    gray = cv2.cvtColor(im, cv2.COLOR_BGR2GRAY)\n",
    "                except:\n",
    "                    failed_videos.append((sess, i))\n",
    "                    break\n",
    "\t    \n",
    "                temp = im[:,:,-1]\n",
    "                im_rgb = im.copy()\n",
    "                im_rgb[:,:,-1] = im_rgb[:,:,0]\n",
    "                im_rgb[:,:,0] = temp\n",
    "                im_rgb = torch.tensor(im_rgb)\n",
    "                im_rgb = im_rgb.to(device)\n",
    "\n",
    "                bbox = mtcnn.detect(im_rgb)\n",
    "                if bbox[0] is not None:\n",
    "                    bbox = bbox[0][0]\n",
    "                    bbox = [0 if x < 0 else round(x) for x in bbox]\n",
    "                    x1, y1, x2, y2 = bbox\n",
    "                    \n",
    "                im = im[y1:y2, x1:x2, :]\n",
    "                #print(bbox, frame_ctr/30)\n",
    "\n",
    "                #if (frame_ctr/30) >31.66:\n",
    "                #    break\n",
    "                \n",
    "                im = cv2.resize(im, (240,240))\n",
    "                if save_avi:\n",
    "                    out.write(im)\n",
    "                numpy_video.append(im)\n",
    "            if len(frames_to_select) > 0:\n",
    "                for i in range(len(frames_to_select)):\n",
    "                    if save_avi:\n",
    "                        out.write(np.zeros((224,224,3), dtype = np.uint8))\n",
    "                    numpy_video.append(np.zeros((224,224,3), dtype=np.uint8))\n",
    "            if save_avi:\n",
    "                out.release() \n",
    "            np.save(os.path.join(root, sess, filename[:-4]+'_facecroppad.npy'), np.array(numpy_video))\n",
    "            if len(numpy_video) < 500:\n",
    "                print('Error', sess, filename, len(numpy_video))    \n",
    "                            \n",
    "    n_processed += 1      \n",
    "    with open('processed.txt', 'a') as f:\n",
    "        f.write(sess + '\\n')\n",
    "    print(failed_videos)\n",
    "                "
   ]
  },
  {
   "cell_type": "code",
   "execution_count": null,
   "id": "41b5af71-1eaf-49d2-b057-758819b08472",
   "metadata": {},
   "outputs": [],
   "source": []
  }
 ],
 "metadata": {
  "kernelspec": {
   "display_name": "Python 3 (ipykernel)",
   "language": "python",
   "name": "python3"
  },
  "language_info": {
   "codemirror_mode": {
    "name": "ipython",
    "version": 3
   },
   "file_extension": ".py",
   "mimetype": "text/x-python",
   "name": "python",
   "nbconvert_exporter": "python",
   "pygments_lexer": "ipython3",
   "version": "3.8.13"
  }
 },
 "nbformat": 4,
 "nbformat_minor": 5
}
