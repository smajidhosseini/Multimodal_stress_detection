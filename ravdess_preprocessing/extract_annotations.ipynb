{
 "cells": [
  {
   "cell_type": "code",
   "execution_count": 138,
   "id": "f02b52f9-f639-43b8-b938-679d9293c01c",
   "metadata": {},
   "outputs": [],
   "source": [
    "#import libraries \n",
    "import pandas as pd\n",
    "import numpy as np\n",
    "from tqdm import tqdm\n",
    "from os.path import exists\n",
    "import os\n",
    "\n",
    "from itertools import product"
   ]
  },
  {
   "cell_type": "code",
   "execution_count": null,
   "id": "3f568592-0ad3-4fcb-85dd-99eac699b54b",
   "metadata": {},
   "outputs": [],
   "source": []
  },
  {
   "cell_type": "code",
   "execution_count": 139,
   "id": "bbc3b119-2b02-4777-bd81-b08ea68b7266",
   "metadata": {},
   "outputs": [],
   "source": [
    "#root path\n",
    "path = '/nfsmount/majid/multimodal/Emotion_recognition_T/dataset/'"
   ]
  },
  {
   "cell_type": "code",
   "execution_count": 140,
   "id": "f0f6caa4-29f1-4202-b4eb-fb86ea3d5666",
   "metadata": {},
   "outputs": [],
   "source": [
    "# options and assumptions\n",
    "participant_list = ['H','I','J','K','L','M','N','P','Q','S']\n",
    "video_length = 1800 #frames(30 fps) = 1 minute\n",
    "sliding = 1800 #tumbling window\n",
    "#Dataset\n",
    "df = pd.DataFrame(columns=['video','start_frame', 'end_frame','biometric','start_row','end_row','stress'])"
   ]
  },
  {
   "cell_type": "code",
   "execution_count": 141,
   "id": "853d1fe9-2caf-4ae6-bf8f-7e7dd0d91812",
   "metadata": {},
   "outputs": [
    {
     "name": "stderr",
     "output_type": "stream",
     "text": [
      "/tmp/ipykernel_83818/3585970789.py:17: FutureWarning: The default dtype for empty Series will be 'object' instead of 'float64' in a future version. Specify a dtype explicitly to silence this warning.\n",
      "  df.loc[len(df)] = annotate(*vals)\n",
      "/tmp/ipykernel_83818/3585970789.py:17: FutureWarning: The default dtype for empty Series will be 'object' instead of 'float64' in a future version. Specify a dtype explicitly to silence this warning.\n",
      "  df.loc[len(df)] = annotate(*vals)\n",
      "/tmp/ipykernel_83818/3585970789.py:17: FutureWarning: The default dtype for empty Series will be 'object' instead of 'float64' in a future version. Specify a dtype explicitly to silence this warning.\n",
      "  df.loc[len(df)] = annotate(*vals)\n",
      "/tmp/ipykernel_83818/3585970789.py:17: FutureWarning: The default dtype for empty Series will be 'object' instead of 'float64' in a future version. Specify a dtype explicitly to silence this warning.\n",
      "  df.loc[len(df)] = annotate(*vals)\n",
      "/tmp/ipykernel_83818/3585970789.py:17: FutureWarning: The default dtype for empty Series will be 'object' instead of 'float64' in a future version. Specify a dtype explicitly to silence this warning.\n",
      "  df.loc[len(df)] = annotate(*vals)\n",
      "/tmp/ipykernel_83818/3585970789.py:17: FutureWarning: The default dtype for empty Series will be 'object' instead of 'float64' in a future version. Specify a dtype explicitly to silence this warning.\n",
      "  df.loc[len(df)] = annotate(*vals)\n",
      "/tmp/ipykernel_83818/3585970789.py:17: FutureWarning: The default dtype for empty Series will be 'object' instead of 'float64' in a future version. Specify a dtype explicitly to silence this warning.\n",
      "  df.loc[len(df)] = annotate(*vals)\n",
      "/tmp/ipykernel_83818/3585970789.py:17: FutureWarning: The default dtype for empty Series will be 'object' instead of 'float64' in a future version. Specify a dtype explicitly to silence this warning.\n",
      "  df.loc[len(df)] = annotate(*vals)\n",
      "/tmp/ipykernel_83818/3585970789.py:17: FutureWarning: The default dtype for empty Series will be 'object' instead of 'float64' in a future version. Specify a dtype explicitly to silence this warning.\n",
      "  df.loc[len(df)] = annotate(*vals)\n"
     ]
    }
   ],
   "source": [
    "def annotate(participant,task,minute):\n",
    "    #checks if the file exists\n",
    "    if (exists(f'{os.path.join(path, participant)}/V{task}_facecroppad.npy')) and (exists(f'{os.path.join(path, participant)}/T{task}.csv')):\n",
    "        #extract the stress level from the biometric files \n",
    "        bio_df = pd.read_csv(f'{os.path.join(path, participant)}/T{task}.csv')['stress']\n",
    "\n",
    "        bio = bio_df.iloc[1+minute * 240]\n",
    "\n",
    "        #combine the data information as an array\n",
    "        return [f'{os.path.join(path, participant)}/V{task}_facecroppad.npy',\n",
    "              minute*video_length, (minute)*video_length + sliding,\n",
    "              f'{os.path.join(path, participant)}/T{task}.csv',\n",
    "              minute * 240,\n",
    "              (minute+1) * 240 , bio]\n",
    "\n",
    "for vals in product(participant_list, range(1,9), range(9)):\n",
    "    df.loc[len(df)] = annotate(*vals)"
   ]
  },
  {
   "cell_type": "code",
   "execution_count": 146,
   "id": "5e89b070-d72b-4a24-80e2-869b701f1047",
   "metadata": {},
   "outputs": [],
   "source": [
    "#train_test_split\n",
    "train = df.sample(frac = 0.6, random_state= 42)\n",
    "test = df.drop(train.index)\n",
    "validation = test.sample(frac = 0.5,random_state= 42)\n",
    "test = test.drop(validation.index)\n",
    "train['label'] = 'train'\n",
    "test['label'] = 'test'\n",
    "validation['label'] = 'validation'\n",
    "\n",
    "df = pd.concat([train, validation, test], axis=0)\n",
    "#save the dataset\n",
    "df.to_csv('annotations.csv', index=False)"
   ]
  },
  {
   "cell_type": "code",
   "execution_count": 143,
   "id": "7eae6037-b3f9-4575-a4df-b17871c23215",
   "metadata": {},
   "outputs": [
    {
     "data": {
      "text/plain": [
       "train         432\n",
       "validation    144\n",
       "test          144\n",
       "Name: label, dtype: int64"
      ]
     },
     "execution_count": 143,
     "metadata": {},
     "output_type": "execute_result"
    }
   ],
   "source": [
    "#check the train test split\n",
    "df.label.value_counts()"
   ]
  },
  {
   "cell_type": "code",
   "execution_count": 147,
   "id": "ecd7b114-ad9f-4a43-879a-9a78bd1e205c",
   "metadata": {},
   "outputs": [],
   "source": [
    "df.to_csv('annotations.csv', index=False)"
   ]
  },
  {
   "cell_type": "code",
   "execution_count": null,
   "id": "be38b894-d4e3-46c8-8a27-402d4bf8bd5b",
   "metadata": {},
   "outputs": [],
   "source": []
  }
 ],
 "metadata": {
  "kernelspec": {
   "display_name": "Python 3 (ipykernel)",
   "language": "python",
   "name": "python3"
  },
  "language_info": {
   "codemirror_mode": {
    "name": "ipython",
    "version": 3
   },
   "file_extension": ".py",
   "mimetype": "text/x-python",
   "name": "python",
   "nbconvert_exporter": "python",
   "pygments_lexer": "ipython3",
   "version": "3.8.13"
  }
 },
 "nbformat": 4,
 "nbformat_minor": 5
}
